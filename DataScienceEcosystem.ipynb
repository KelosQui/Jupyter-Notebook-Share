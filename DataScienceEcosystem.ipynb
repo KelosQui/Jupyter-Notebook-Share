{
 "cells": [
  {
   "cell_type": "markdown",
   "id": "096ef3e7-1c8e-4c45-9da9-e9c7c755f812",
   "metadata": {},
   "source": [
    "## Ejercicio 1: Crear un cuaderno Jupyter\n",
    "\n",
    "*Cree un nuevo cuaderno Jupyter llamado* **DataScienceEcosystem.ipynb**\n",
    "\n",
    "Nota: El siguiente elemento del curso iniciará JupyterLite con un cuaderno vacío con este nombre que puede usar para completar el resto de los ejercicios. También puede usar cualquier otro entorno de cuaderno Jupyter (por ejemplo, Anaconda) que prefiera para completar la tarea."
   ]
  },
  {
   "cell_type": "markdown",
   "id": "71b0a844-3431-472a-99e7-95944d0b727b",
   "metadata": {},
   "source": [
    "----"
   ]
  },
  {
   "cell_type": "markdown",
   "id": "a487a95a-2a71-47b4-a7be-99bcccf52fc0",
   "metadata": {
    "jp-MarkdownHeadingCollapsed": true
   },
   "source": [
    "## Ejercicio 2: Crear celda de markdown con título del cuaderno\n",
    "\n",
    "Cree una celda de Markdown con el título ***Data Science Tools and Ecosystem*** usando el encabezado de estilo H1.\n",
    "\n",
    "*Tome una captura de pantalla de la celda de Markdown y nómbrela como* **2-title.png**"
   ]
  },
  {
   "cell_type": "markdown",
   "id": "34d1e4d0-7317-4914-9ab2-f52287e42dc1",
   "metadata": {},
   "source": [
    "# Data Science Tools and Ecosystem"
   ]
  },
  {
   "cell_type": "markdown",
   "id": "524d9ae1-4fb2-4ecc-a80c-0f504fd409ea",
   "metadata": {},
   "source": [
    "----"
   ]
  },
  {
   "cell_type": "markdown",
   "id": "be94ef7f-1b4d-4eae-aba9-6bf199f03320",
   "metadata": {},
   "source": [
    "## Ejercicio 3: Crear una celda de Markdown para una introducción\n",
    "\n",
    "Escribe una frase introductoria sobre el cuaderno como la siguiente:\n",
    "\n",
    "***In this notebook, Data Science Tools and Ecosystem are summarized.***\n",
    "\n",
    "*Tome una captura de pantalla de la celda de Markdown y nómbrela como* **3-intro.png**"
   ]
  },
  {
   "cell_type": "markdown",
   "id": "e8f8014e-0256-41b9-9a73-150b764dd0e1",
   "metadata": {},
   "source": [
    "In this notebook, Data Science Tools and Ecosystem are summarized."
   ]
  },
  {
   "cell_type": "markdown",
   "id": "38fe08d6-ab90-408d-963d-20aa23d9d58c",
   "metadata": {},
   "source": [
    "----"
   ]
  },
  {
   "cell_type": "markdown",
   "id": "d76c72a4-220e-456a-ac0b-aff85e7075bf",
   "metadata": {},
   "source": [
    "## Ejercicio 4: Crear una celda de Markdown para enumerar los lenguajes de la ciencia de datos\n",
    "\n",
    "Comience la celda con una línea de descripción general como:\n",
    "\n",
    "***Some of the popular languages that Data Scientists use are:***\n",
    "Luego, cree una ***ordered list*** lista (numerada) de 3 (o más) lenguajes comúnmente utilizados para la ciencia de datos.\n",
    "\n",
    "*Tome una captura de pantalla de la celda de Markdown y nómbrela como* **4-dslanguages.png**"
   ]
  },
  {
   "cell_type": "markdown",
   "id": "17192b90-dbfb-4885-8435-e8d25ff2294d",
   "metadata": {},
   "source": [
    "Some of the popular languages that Data Scientists use are:\n",
    "1. Python\n",
    "2. R\n",
    "3. SQL"
   ]
  },
  {
   "cell_type": "markdown",
   "id": "af925833-0c0a-483f-9b2b-60bef6b5e990",
   "metadata": {},
   "source": [
    "----"
   ]
  },
  {
   "cell_type": "markdown",
   "id": "a0bf888e-8a30-489e-9a8d-1adf4538be40",
   "metadata": {},
   "source": [
    "## Ejercicio 5: Crear una celda de Markdown para enumerar las bibliotecas de ciencia de datos\n",
    "\n",
    "Agregue una línea de descripción general a la celda como:\n",
    "\n",
    "***Some of the commonly used libraries used by Data Scientists include:***\n",
    "Debajo de esta línea agregue una **ordered list** lista de 3 (o más) bibliotecas comúnmente utilizadas en la ciencia de datos.\n",
    "\n",
    "*Tome una captura de pantalla de la celda de Markdown y nómbrela como* **5-dslibraries.png**"
   ]
  },
  {
   "cell_type": "markdown",
   "id": "83f90b9b-3862-47f4-87a7-dce6afef04d3",
   "metadata": {},
   "source": [
    "Some of the commonly used libraries used by Data Scientists include:\n",
    "1. Pandas\n",
    "2. Numpy\n",
    "3. Seaborn"
   ]
  },
  {
   "cell_type": "markdown",
   "id": "538e3dd9-eca4-43e9-ad5b-f40ee98ff6ea",
   "metadata": {},
   "source": [
    "----"
   ]
  },
  {
   "cell_type": "markdown",
   "id": "03ddc2a0-33e3-4d9e-a82b-f9a9148917e2",
   "metadata": {},
   "source": [
    "## Ejercicio 6: Crear una celda de Markdown con una tabla de herramientas de ciencia de datos\n",
    "\n",
    "Cree una tabla de una sola columna en esta celda, en la que la primera fila contenga el encabezado ***Data Science Tools***. Las tres filas siguientes de la tabla deben indicar tres herramientas de código abierto del entorno de desarrollo utilizadas en la ciencia de datos.\n",
    "\n",
    "*Tome una captura de pantalla de la celda de Markdown y nómbrela como* **6-dstools.png**\n",
    "\n",
    "Sugerencia: consulte el laboratorio: Uso de Markdowns en Jupyter Notebooks para crear una tabla."
   ]
  },
  {
   "cell_type": "markdown",
   "id": "f4d457ab-72d4-4d17-81bd-db3cf3597297",
   "metadata": {},
   "source": [
    "| Data Science Tools |\n",
    "|--------------------|\n",
    "| Jupyter Notebooks  |\n",
    "| RStudio            |\n",
    "| Apache Zeppelin    |"
   ]
  },
  {
   "cell_type": "markdown",
   "id": "09e6fb6d-e18c-463d-917d-fad4ec7c60af",
   "metadata": {},
   "source": [
    "----"
   ]
  },
  {
   "cell_type": "markdown",
   "id": "6a4bdb2f-322d-4dbf-8092-905189e96b2d",
   "metadata": {},
   "source": [
    "## Ejercicio 7 - Crear una celda de Markdown que presente ejemplos de expresiones aritméticas\n",
    "\n",
    "Agregue una línea en esta celda con un encabezado de estilo H3 con texto como:\n",
    "\n",
    "**Below are a few examples of evaluating arithmetic expressions in Python.**\n",
    "\n",
    "*Tome una captura de pantalla de la celda de Markdown y nómbrela como* **7-introarithmetic.png**"
   ]
  },
  {
   "cell_type": "markdown",
   "id": "cbd544da-2224-46e9-b81e-067f00f957c2",
   "metadata": {},
   "source": [
    "### Below are a few examples of evaluating arithmetic expressions in Python"
   ]
  },
  {
   "cell_type": "markdown",
   "id": "5b07ddfb-e208-4fec-989c-d94692f8a7ea",
   "metadata": {},
   "source": [
    "----"
   ]
  },
  {
   "cell_type": "markdown",
   "id": "7e15910f-f557-4e73-b2f8-b032cd0a3469",
   "metadata": {},
   "source": [
    "## Ejercicio 8 - Crear una celda de código para multiplicar y sumar números\n",
    "\n",
    "En esta celda de código, evalúe la expresión ***(3*4)+5***.\n",
    "Inserte una línea de comentario antes de la expresión para explicar la operación, p. ej  ***This a simple arithmetic expression to mutiply then add integers***..\n",
    "Luego, ejecute la celda para asegurarse de que la expresión devuelva el resultado esperado de ***17***.\n",
    "\n",
    "*Tome una captura de pantalla de la celda de código con salida y nómbrela como* **8-multiplyandaddintegers.png**"
   ]
  },
  {
   "cell_type": "code",
   "execution_count": 22,
   "id": "831b2ef0-f774-481d-93d2-fd9fd656703b",
   "metadata": {},
   "outputs": [
    {
     "data": {
      "text/plain": [
       "17"
      ]
     },
     "execution_count": 22,
     "metadata": {},
     "output_type": "execute_result"
    }
   ],
   "source": [
    "# This a simple arithmetic expression to mutiply then add integers\n",
    "(3 * 4) + 5"
   ]
  },
  {
   "cell_type": "markdown",
   "id": "529e8ec8-4de7-4308-af8d-422dcfc7fbe6",
   "metadata": {},
   "source": [
    "----"
   ]
  },
  {
   "cell_type": "markdown",
   "id": "10991d58-127f-408e-ae03-5741988b7e34",
   "metadata": {},
   "source": [
    "## Ejercicio 9 - Crear una celda de código para convertir minutos a horas\n",
    "\n",
    "En esta celda de código, escriba una expresión que se convierta ***200 minutes*** en ***hours***.\n",
    "Inserte una línea de comentario antes de la expresión para explicar la operación, por ejemplo ***This will convert 200 minutes to hours by diving by 60***.\n",
    "Ejecute la celda para evaluar la expresión.\n",
    "\n",
    "*Tome una captura de pantalla de la celda de código con salida y nómbrela como* **9-hourstominutes.png**"
   ]
  },
  {
   "cell_type": "code",
   "execution_count": 25,
   "id": "617b56b0-8255-4b08-8028-bd6b36340480",
   "metadata": {},
   "outputs": [
    {
     "name": "stdout",
     "output_type": "stream",
     "text": [
      "200 minutes equals 3.33 hours\n"
     ]
    }
   ],
   "source": [
    "# This will convert 200 minutes to hours by diving by 60\n",
    "x = 200 ## Minutes\n",
    "y = 60 ## One hour (in minutes)\n",
    "z = x/y\n",
    "print(f'{x} minutes equals {z:.2f} hours')"
   ]
  },
  {
   "cell_type": "markdown",
   "id": "10543d06-64d1-4286-afcd-c1c9167be9ef",
   "metadata": {},
   "source": [
    "----"
   ]
  },
  {
   "cell_type": "markdown",
   "id": "95b47c39-4055-450d-a48b-32a2f06edf47",
   "metadata": {},
   "source": [
    "## Ejercicio 10: Insertar una celda de Markdown para enumerar los objetivos\n",
    "\n",
    "Debajo de la celda de introducción creada en el Ejercicio 3, inserte una nueva celda de Markdown para enumerar los objetivos que cubrió este cuaderno (es decir, algunas de las conclusiones clave del curso). En esta nueva celda, comience con una línea de introducción titulada: ***Objectives:*** en negrita. Luego, con ***unordered list*** viñetas, indique de 3 a 5 elementos cubiertos en este cuaderno, como List popular languages for Data Science.\n",
    "\n",
    "*Tome una captura de pantalla de la celda de Markdown y nómbrela como* **10-objectives.png**"
   ]
  },
  {
   "cell_type": "markdown",
   "id": "ceb04895-70b0-4759-8335-f475709cde28",
   "metadata": {},
   "source": [
    "In this notebook, Data Science Tools and Ecosystem are summarized."
   ]
  },
  {
   "cell_type": "markdown",
   "id": "4efe16cb-9115-45e7-92f1-ce79e6ef80a7",
   "metadata": {},
   "source": [
    "**Objectives:**\n",
    "\n",
    "- List popular languages for Data Science\n",
    "- List commonly libraries for Data Science\n",
    "- Identify commonly used Data Science tools\n",
    "- Understand the Data Science ecosystem"
   ]
  },
  {
   "cell_type": "markdown",
   "id": "44c6079e-1db0-4197-ab6b-8f0add077ee4",
   "metadata": {},
   "source": [
    "----"
   ]
  },
  {
   "cell_type": "markdown",
   "id": "b5d7c88f-f22b-4ff9-8a06-8067be373b93",
   "metadata": {},
   "source": [
    "## Ejercicio 11 - Crear una celda de Markdown para indicar el nombre del autor\n",
    "\n",
    "En esta celda de Markdown, incluya el siguiente texto ***Author*** en ***H2 style heading***. Incluya su ***name*** texto normal debajo de la palabra ***Author***.\n",
    "\n",
    "*Tome una captura de pantalla de la celda de Markdown y nómbrela como* **11-authordetails.png**\n",
    "\n",
    "Nota: Guarde y descargue el cuaderno."
   ]
  },
  {
   "cell_type": "markdown",
   "id": "7e69c948-68b1-48f3-ba03-41c154aa28b7",
   "metadata": {},
   "source": [
    "## Author\n",
    "Caio Oliveira"
   ]
  },
  {
   "cell_type": "markdown",
   "id": "26c8ac88-cb82-4ebe-b539-578bc01b50f6",
   "metadata": {},
   "source": [
    "----"
   ]
  },
  {
   "cell_type": "markdown",
   "id": "5c8f6f4a-1cc0-4d79-8b35-7ff1452d8d74",
   "metadata": {},
   "source": [
    "## Ejercicio 12 – Comparte tu cuaderno a través de GitHub\n",
    "\n",
    "Sube tu notebook a un repositorio público en GitHub .\n",
    "\n",
    "Nota: Tenga a mano el enlace del repositorio de GitHub del cuaderno.\n",
    "Deberá enviar este enlace como parte de la evaluación de la tarea.\n",
    "\n",
    "Sugerencia: consulte **Laboratorio: Trabajar con archivos en Jupyter Notebooks para descargar el notebook de SN Labs**."
   ]
  },
  {
   "cell_type": "markdown",
   "id": "2e7c1d37-3ca3-4f6e-83dd-b8fd217eb182",
   "metadata": {},
   "source": [
    "----"
   ]
  },
  {
   "cell_type": "markdown",
   "id": "2bda3447-aafa-4673-a60a-e3ad0c255abc",
   "metadata": {},
   "source": [
    "## Ejercicio 13 -Toma una captura de pantalla de la primera página del cuaderno y guárdala **como1-notebook.png**\n",
    "\n",
    "Consulta el laboratorio práctico: Introducción a GitHub para cargar el cuaderno descargado en GitHub .\n",
    "\n",
    "Felicitaciones por completar este proyecto. En un elemento posterior del curso, enviarás un enlace a tu cuaderno en GitHub y evaluarás a tus compañeros."
   ]
  },
  {
   "cell_type": "markdown",
   "id": "0abad97c-cdb2-4e44-8679-33ae43d23aad",
   "metadata": {},
   "source": [
    "----"
   ]
  }
 ],
 "metadata": {
  "kernelspec": {
   "display_name": "Python 3 (ipykernel)",
   "language": "python",
   "name": "python3"
  },
  "language_info": {
   "codemirror_mode": {
    "name": "ipython",
    "version": 3
   },
   "file_extension": ".py",
   "mimetype": "text/x-python",
   "name": "python",
   "nbconvert_exporter": "python",
   "pygments_lexer": "ipython3",
   "version": "3.11.7"
  }
 },
 "nbformat": 4,
 "nbformat_minor": 5
}
